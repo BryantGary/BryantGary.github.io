{
 "cells": [
  {
   "cell_type": "code",
   "execution_count": 1,
   "metadata": {},
   "outputs": [],
   "source": [
    "import os\n",
    "import numpy as np\n",
    "import pydicom as dicom\n",
    "import nibabel as nib\n",
    "import SimpleITK as sitk"
   ]
  },
  {
   "cell_type": "code",
   "execution_count": 7,
   "metadata": {},
   "outputs": [],
   "source": [
    "def dcm_2_nii(from_dicom_folder, to_folder):\n",
    "    patient_name = os.path.basename(from_dicom_folder)\n",
    "    print(patient_name)\n",
    "    reader = sitk.ImageSeriesReader()\n",
    "    dirs = os.listdir(from_dicom_folder)\n",
    "    for d in dirs:\n",
    "        if d == \"dicom\":\n",
    "            print(d)\n",
    "            dicom_names = reader.GetGDCMSeriesFileNames(os.path.join(from_dicom_folder, d))\n",
    "            reader.SetFileNames(dicom_names)                                            \n",
    "            image2 = reader.Execute()\n",
    "    #         if 'dicom' == d:\n",
    "            sitk.WriteImage(image2, os.path.join(to_folder, patient_name + \".nii.gz\"))\n",
    "#         else:\n",
    "#             sitk.WriteImage(image2, os.path.join(to_folder, patient_name+'_out'+\".nii.gz\"))                                                 "
   ]
  },
  {
   "cell_type": "code",
   "execution_count": 3,
   "metadata": {
    "scrolled": true
   },
   "outputs": [
    {
     "name": "stdout",
     "output_type": "stream",
     "text": [
      "cai_ting\n",
      "5-WATERAxLAVA-Flex_9\n",
      "502-OutPhase Ax LAVA-Flex_9\n"
     ]
    }
   ],
   "source": [
    "dcm_2_nii('D:/MRI_pancreas/pancreas_MRI_dicom/cai_ting', 'D:/')"
   ]
  },
  {
   "cell_type": "code",
   "execution_count": 8,
   "metadata": {},
   "outputs": [
    {
     "name": "stdout",
     "output_type": "stream",
     "text": [
      "NO01\n",
      "C:\\Users\\LQQ\\Desktop\\work\\1-20\\NO01\n",
      "NO01\n",
      "dicom\n",
      "NO02\n",
      "C:\\Users\\LQQ\\Desktop\\work\\1-20\\NO02\n",
      "NO02\n",
      "dicom\n",
      "NO03\n",
      "C:\\Users\\LQQ\\Desktop\\work\\1-20\\NO03\n",
      "NO03\n",
      "dicom\n",
      "NO04\n",
      "C:\\Users\\LQQ\\Desktop\\work\\1-20\\NO04\n",
      "NO04\n",
      "dicom\n",
      "NO05\n",
      "C:\\Users\\LQQ\\Desktop\\work\\1-20\\NO05\n",
      "NO05\n",
      "dicom\n",
      "NO06\n",
      "C:\\Users\\LQQ\\Desktop\\work\\1-20\\NO06\n",
      "NO06\n",
      "dicom\n",
      "NO07\n",
      "C:\\Users\\LQQ\\Desktop\\work\\1-20\\NO07\n",
      "NO07\n",
      "dicom\n",
      "NO08\n",
      "C:\\Users\\LQQ\\Desktop\\work\\1-20\\NO08\n",
      "NO08\n",
      "dicom\n",
      "NO09\n",
      "C:\\Users\\LQQ\\Desktop\\work\\1-20\\NO09\n",
      "NO09\n",
      "dicom\n",
      "NO10\n",
      "C:\\Users\\LQQ\\Desktop\\work\\1-20\\NO10\n",
      "NO10\n",
      "dicom\n",
      "NO11\n",
      "C:\\Users\\LQQ\\Desktop\\work\\1-20\\NO11\n",
      "NO11\n",
      "dicom\n",
      "NO12\n",
      "C:\\Users\\LQQ\\Desktop\\work\\1-20\\NO12\n",
      "NO12\n",
      "dicom\n",
      "NO13\n",
      "C:\\Users\\LQQ\\Desktop\\work\\1-20\\NO13\n",
      "NO13\n",
      "dicom\n",
      "NO14\n",
      "C:\\Users\\LQQ\\Desktop\\work\\1-20\\NO14\n",
      "NO14\n",
      "dicom\n",
      "NO15\n",
      "C:\\Users\\LQQ\\Desktop\\work\\1-20\\NO15\n",
      "NO15\n",
      "dicom\n",
      "NO16\n",
      "C:\\Users\\LQQ\\Desktop\\work\\1-20\\NO16\n",
      "NO16\n",
      "dicom\n",
      "NO17\n",
      "C:\\Users\\LQQ\\Desktop\\work\\1-20\\NO17\n",
      "NO17\n",
      "dicom\n",
      "NO18\n",
      "C:\\Users\\LQQ\\Desktop\\work\\1-20\\NO18\n",
      "NO18\n",
      "dicom\n",
      "NO19\n",
      "C:\\Users\\LQQ\\Desktop\\work\\1-20\\NO19\n",
      "NO19\n",
      "dicom\n",
      "NO20\n",
      "C:\\Users\\LQQ\\Desktop\\work\\1-20\\NO20\n",
      "NO20\n",
      "dicom\n",
      "Finished\n"
     ]
    }
   ],
   "source": [
    "path = 'C:\\\\Users\\\\LQQ\\\\Desktop\\\\work\\\\1-20'\n",
    "dirs = os.listdir(path)\n",
    "for d in dirs:\n",
    "    print(d)\n",
    "    dicom_folder = os.path.join(path, d)     \n",
    "    print(dicom_folder)\n",
    "    dcm_2_nii(dicom_folder, 'C:\\\\Users\\\\LQQ\\\\Desktop\\\\work\\\\nii')\n",
    "print(\"Finished\")"
   ]
  },
  {
   "cell_type": "code",
   "execution_count": 3,
   "metadata": {},
   "outputs": [],
   "source": [
    "import os \n",
    "path = 'C:/Users/LQQ/Desktop/新建文件夹'\n",
    "files = os.listdir(path)\n",
    "for file in files:\n",
    "    if file.endswith('nii') or file.split('.')[1]=='gz':\n",
    "        os.rename(os.path.join(path,file), os.path.join(path,file.split('.')[0]+'.nii.gz'))"
   ]
  },
  {
   "cell_type": "code",
   "execution_count": 12,
   "metadata": {},
   "outputs": [
    {
     "name": "stdout",
     "output_type": "stream",
     "text": [
      "1\n",
      "  Data shape is (260, 320, 72) .\n"
     ]
    },
    {
     "name": "stderr",
     "output_type": "stream",
     "text": [
      "E:\\Anaconda\\lib\\site-packages\\ipykernel_launcher.py:12: DeprecationWarning: get_data() is deprecated in favor of get_fdata(), which has a more predictable return type. To obtain get_data() behavior going forward, use numpy.asanyarray(img.dataobj).\n",
      "\n",
      "* deprecated from version: 3.0\n",
      "* Will raise <class 'nibabel.deprecator.ExpiredDeprecationError'> as of version: 5.0\n",
      "  if sys.path[0] == '':\n"
     ]
    },
    {
     "name": "stdout",
     "output_type": "stream",
     "text": [
      "10\n"
     ]
    },
    {
     "ename": "ImageFileError",
     "evalue": "Cannot work out file type of \"D:/MRI_pancreas/label2/10.nii.gz\"",
     "output_type": "error",
     "traceback": [
      "\u001b[1;31m---------------------------------------------------------------------------\u001b[0m",
      "\u001b[1;31mImageFileError\u001b[0m                            Traceback (most recent call last)",
      "\u001b[1;32m<ipython-input-12-6d6e2cd647d1>\u001b[0m in \u001b[0;36m<module>\u001b[1;34m\u001b[0m\n\u001b[0;32m     10\u001b[0m     \u001b[0mfilename2\u001b[0m \u001b[1;33m=\u001b[0m \u001b[0mstr\u001b[0m\u001b[1;33m(\u001b[0m\u001b[0mid\u001b[0m\u001b[1;33m)\u001b[0m \u001b[1;33m+\u001b[0m \u001b[1;34m'.npy'\u001b[0m\u001b[1;33m\u001b[0m\u001b[1;33m\u001b[0m\u001b[0m\n\u001b[0;32m     11\u001b[0m     \u001b[0mfile1\u001b[0m \u001b[1;33m=\u001b[0m \u001b[0mnii_path\u001b[0m \u001b[1;33m+\u001b[0m \u001b[0mfilename1\u001b[0m\u001b[1;33m\u001b[0m\u001b[1;33m\u001b[0m\u001b[0m\n\u001b[1;32m---> 12\u001b[1;33m     \u001b[0mdata\u001b[0m \u001b[1;33m=\u001b[0m \u001b[0mnibabel\u001b[0m\u001b[1;33m.\u001b[0m\u001b[0mload\u001b[0m\u001b[1;33m(\u001b[0m\u001b[0mfile1\u001b[0m\u001b[1;33m)\u001b[0m\u001b[1;33m.\u001b[0m\u001b[0mget_data\u001b[0m\u001b[1;33m(\u001b[0m\u001b[1;33m)\u001b[0m\u001b[1;33m.\u001b[0m\u001b[0mtranspose\u001b[0m\u001b[1;33m(\u001b[0m\u001b[1;36m1\u001b[0m\u001b[1;33m,\u001b[0m \u001b[1;36m0\u001b[0m\u001b[1;33m,\u001b[0m \u001b[1;36m2\u001b[0m\u001b[1;33m)\u001b[0m\u001b[1;33m\u001b[0m\u001b[1;33m\u001b[0m\u001b[0m\n\u001b[0m\u001b[0;32m     13\u001b[0m     \u001b[0mprint\u001b[0m \u001b[1;33m(\u001b[0m\u001b[1;34m'  Data shape is '\u001b[0m \u001b[1;33m+\u001b[0m \u001b[0mstr\u001b[0m\u001b[1;33m(\u001b[0m\u001b[0mdata\u001b[0m\u001b[1;33m.\u001b[0m\u001b[0mshape\u001b[0m\u001b[1;33m)\u001b[0m \u001b[1;33m+\u001b[0m \u001b[1;34m' .'\u001b[0m\u001b[1;33m)\u001b[0m\u001b[1;33m\u001b[0m\u001b[1;33m\u001b[0m\u001b[0m\n\u001b[0;32m     14\u001b[0m     \u001b[0mfile2\u001b[0m \u001b[1;33m=\u001b[0m \u001b[0mnpy_path\u001b[0m \u001b[1;33m+\u001b[0m \u001b[0mfilename2\u001b[0m\u001b[1;33m\u001b[0m\u001b[1;33m\u001b[0m\u001b[0m\n",
      "\u001b[1;32mE:\\Anaconda\\lib\\site-packages\\nibabel\\loadsave.py\u001b[0m in \u001b[0;36mload\u001b[1;34m(filename, **kwargs)\u001b[0m\n\u001b[0;32m     54\u001b[0m \u001b[1;33m\u001b[0m\u001b[0m\n\u001b[0;32m     55\u001b[0m     raise ImageFileError('Cannot work out file type of \"%s\"' %\n\u001b[1;32m---> 56\u001b[1;33m                          filename)\n\u001b[0m\u001b[0;32m     57\u001b[0m \u001b[1;33m\u001b[0m\u001b[0m\n\u001b[0;32m     58\u001b[0m \u001b[1;33m\u001b[0m\u001b[0m\n",
      "\u001b[1;31mImageFileError\u001b[0m: Cannot work out file type of \"D:/MRI_pancreas/label2/10.nii.gz\""
     ]
    }
   ],
   "source": [
    "import os\n",
    "import nibabel\n",
    "nii_path = 'D:/MRI_pancreas/label2/'\n",
    "npy_path = 'D:/MRI_pancreas/mri_label_npy/'\n",
    "files = os.listdir(path)\n",
    "for file in files:\n",
    "    id = file.split('.')[0]\n",
    "    print(id)\n",
    "    filename1 = str(id) + '.nii.gz'\n",
    "    filename2 = str(id) + '.npy'\n",
    "    file1 = nii_path + filename1\n",
    "    data = nibabel.load(file1).get_data().transpose(1, 0, 2)\n",
    "    print ('  Data shape is ' + str(data.shape) + ' .')\n",
    "    file2 = npy_path + filename2\n",
    "    np.save(file2, data)"
   ]
  }
 ],
 "metadata": {
  "kernelspec": {
   "display_name": "Python 3",
   "language": "python",
   "name": "python3"
  },
  "language_info": {
   "codemirror_mode": {
    "name": "ipython",
    "version": 3
   },
   "file_extension": ".py",
   "mimetype": "text/x-python",
   "name": "python",
   "nbconvert_exporter": "python",
   "pygments_lexer": "ipython3",
   "version": "3.7.6"
  }
 },
 "nbformat": 4,
 "nbformat_minor": 4
}
